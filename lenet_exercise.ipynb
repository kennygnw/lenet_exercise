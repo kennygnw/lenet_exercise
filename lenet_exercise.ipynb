{
 "cells": [
  {
   "cell_type": "code",
   "execution_count": 1,
   "id": "6ba7228f",
   "metadata": {},
   "outputs": [],
   "source": [
    "# import modules\n",
    "import torch\n",
    "import torch.nn as nn\n",
    "import torchvision\n",
    "import torchvision.transforms as transforms\n",
    "from torch.utils.data import DataLoader\n",
    "from torchinfo import summary\n",
    "from torchmetrics import Accuracy\n",
    "from datetime import datetime\n",
    "import os\n",
    "from tqdm.notebook import tqdm\n",
    "from torch.utils.tensorboard import SummaryWriter\n",
    "\n"
   ]
  },
  {
   "cell_type": "markdown",
   "id": "919a0dae",
   "metadata": {},
   "source": [
    "\n",
    "Lenet Architecture\n",
    "\n",
    "![Output formula on conv and pooling](lenet_architecture.jpg)\n",
    "\n",
    "Output formula on conv and pooling\n",
    "\n",
    "![Output formula on conv and pooling](conv_output_size_formula.jpg)"
   ]
  },
  {
   "cell_type": "code",
   "execution_count": 2,
   "id": "8b9af8c1",
   "metadata": {},
   "outputs": [],
   "source": [
    "# SINCE THE MNIST DATASET IS IN 28X28, PADDING OF 2 IS PUT ON C1 LAYER\n",
    "class LeNet5(nn.Module):\n",
    "    def __init__(self):\n",
    "        super(LeNet5,self).__init__()\n",
    "        self.c1 = nn.Conv2d(in_channels=1,out_channels=6,kernel_size=5,stride=1,padding=2)\n",
    "        self.c2 = nn.Conv2d(in_channels=6,out_channels=16,kernel_size=5,stride=1,padding=0)\n",
    "        self.c3 = nn.Conv2d(in_channels=16,out_channels=120,kernel_size=5,stride=1,padding=0)\n",
    "        self.tanh = nn.Tanh()\n",
    "        self.max_pool = nn.MaxPool2d(kernel_size=2,stride=2)\n",
    "        # self.fc0 = nn.Linear(in_features=400,out_features=120)\n",
    "        self.fc1 = nn.Linear(in_features=120,out_features=84)\n",
    "        self.fc2 = nn.Linear(in_features=84,out_features=10)\n",
    "\n",
    "    def forward(self, img):\n",
    "        # in 1x32x32 out 6x28x28\n",
    "        x = self.c1(img)\n",
    "        # in 6x28x28 out 6x14x14\n",
    "        x = self.tanh(self.max_pool(x))\n",
    "\n",
    "        # in 6x14x14 out 16x10x10\n",
    "        x = self.c2(x)\n",
    "        # in 16x10x10 out 16x5x5\n",
    "        x = self.tanh(self.max_pool(x))\n",
    "\n",
    "        # # in 16x5x5 out 400x1x1\n",
    "        # x = torch.flatten(x,1)\n",
    "        # x = self.tanh(self.fc0(x))\n",
    "\n",
    "        # in 16x5x5 out 120x1x1\n",
    "        x = self.tanh(self.c3(x))\n",
    "        x = torch.flatten(x,1)\n",
    "\n",
    "        x = self.tanh(self.fc1(x))\n",
    "        x = self.fc2(x)\n",
    "        return x\n",
    "\n",
    "net = LeNet5()\n",
    "# net(torch.rand((8,1,28,28)))"
   ]
  },
  {
   "cell_type": "code",
   "execution_count": 3,
   "id": "938fb322",
   "metadata": {},
   "outputs": [
    {
     "data": {
      "text/plain": [
       "========================================================================================================================\n",
       "Layer (type (var_name))                  Input Shape          Output Shape         Param #              Trainable\n",
       "========================================================================================================================\n",
       "LeNet5 (LeNet5)                          [1, 1, 28, 28]       [1, 10]              --                   True\n",
       "├─Conv2d (c1)                            [1, 1, 28, 28]       [1, 6, 28, 28]       156                  True\n",
       "├─MaxPool2d (max_pool)                   [1, 6, 28, 28]       [1, 6, 14, 14]       --                   --\n",
       "├─Tanh (tanh)                            [1, 6, 14, 14]       [1, 6, 14, 14]       --                   --\n",
       "├─Conv2d (c2)                            [1, 6, 14, 14]       [1, 16, 10, 10]      2,416                True\n",
       "├─MaxPool2d (max_pool)                   [1, 16, 10, 10]      [1, 16, 5, 5]        --                   --\n",
       "├─Tanh (tanh)                            [1, 16, 5, 5]        [1, 16, 5, 5]        --                   --\n",
       "├─Conv2d (c3)                            [1, 16, 5, 5]        [1, 120, 1, 1]       48,120               True\n",
       "├─Tanh (tanh)                            [1, 120, 1, 1]       [1, 120, 1, 1]       --                   --\n",
       "├─Linear (fc1)                           [1, 120]             [1, 84]              10,164               True\n",
       "├─Tanh (tanh)                            [1, 84]              [1, 84]              --                   --\n",
       "├─Linear (fc2)                           [1, 84]              [1, 10]              850                  True\n",
       "========================================================================================================================\n",
       "Total params: 61,706\n",
       "Trainable params: 61,706\n",
       "Non-trainable params: 0\n",
       "Total mult-adds (M): 0.42\n",
       "========================================================================================================================\n",
       "Input size (MB): 0.00\n",
       "Forward/backward pass size (MB): 0.05\n",
       "Params size (MB): 0.25\n",
       "Estimated Total Size (MB): 0.30\n",
       "========================================================================================================================"
      ]
     },
     "execution_count": 3,
     "metadata": {},
     "output_type": "execute_result"
    }
   ],
   "source": [
    "# Summarize the model parameters, input, and output shape with the torchinfo library:\n",
    "summary(model=net, input_size=(1, 1, 28, 28), col_width=20,\n",
    "                  col_names=['input_size', 'output_size', 'num_params', 'trainable'], row_settings=['var_names'], verbose=0)\n"
   ]
  },
  {
   "cell_type": "code",
   "execution_count": 4,
   "id": "b3669727",
   "metadata": {},
   "outputs": [
    {
     "data": {
      "text/plain": [
       "(48000, 12000, 10000)"
      ]
     },
     "execution_count": 4,
     "metadata": {},
     "output_type": "execute_result"
    }
   ],
   "source": [
    "### load MNIST DATASET\n",
    "# if first time running, no /data folder with dataset, set download to True\n",
    "train_val_dataset = torchvision.datasets.MNIST(root='./data', train=True, download=False, transform=transforms.ToTensor())\n",
    "test_dataset  = torchvision.datasets.MNIST(root='./data', train=False, download=False, transform=transforms.ToTensor())\n",
    "class_names = train_val_dataset.classes\n",
    "# Calculate mean and std of the train dataset\n",
    "imgs = torch.stack([img for img, _ in train_val_dataset], dim=0)\n",
    "mean = imgs.view(1, -1).mean(dim=1)    # or imgs.mean()\n",
    "std = imgs.view(1, -1).std(dim=1)     # or imgs.std()\n",
    "# create Transformation (converting from Image class to Tensor and normalize)\n",
    "mnist_transforms = transforms.Compose([transforms.ToTensor(),\n",
    "                                       transforms.Normalize(mean=mean, std=std)])\n",
    "mnist_trainset = torchvision.datasets.MNIST(root=\"./data\", train=True, download=False, transform=mnist_transforms)\n",
    "mnist_testset = torchvision.datasets.MNIST(root=\"./data\", train=False, download=False, transform=mnist_transforms)\n",
    "# split to train dataset and validation dataset\n",
    "train_size = int(0.8 * len(mnist_trainset))\n",
    "val_size = len(mnist_trainset) - train_size\n",
    "train_dataset, val_dataset = torch.utils.data.random_split(dataset=mnist_trainset, lengths=[train_size, val_size])\n",
    "len(train_dataset), len(val_dataset), len(mnist_testset)\n"
   ]
  },
  {
   "cell_type": "code",
   "execution_count": 18,
   "id": "81d8b6fc",
   "metadata": {},
   "outputs": [
    {
     "name": "stdout",
     "output_type": "stream",
     "text": [
      "torch.Size([28, 28])\n"
     ]
    }
   ],
   "source": [
    "# SMALL INTERLUDE CHECK SIZE OF A DATA IN DATASET\n",
    "_data , _label = train_dataset[0]\n",
    "print(_data[0].shape)"
   ]
  },
  {
   "cell_type": "code",
   "execution_count": 5,
   "id": "96265272",
   "metadata": {},
   "outputs": [
    {
     "data": {
      "text/plain": [
       "(1500, 375, 313)"
      ]
     },
     "execution_count": 5,
     "metadata": {},
     "output_type": "execute_result"
    }
   ],
   "source": [
    "\n",
    "BATCH_SIZE = 32\n",
    "\n",
    "train_dataloader = DataLoader(dataset=train_dataset, batch_size=BATCH_SIZE, shuffle=True)\n",
    "val_dataloader = DataLoader(dataset=val_dataset, batch_size=BATCH_SIZE, shuffle=True)\n",
    "test_dataloader = DataLoader(dataset=test_dataset, batch_size=BATCH_SIZE, shuffle=True)\n",
    "\n",
    "# Let's see no of batches that we have now with the current batch-size\n",
    "len(train_dataloader), len(val_dataloader), len(test_dataloader) \n"
   ]
  },
  {
   "cell_type": "code",
   "execution_count": null,
   "id": "9fcb0547",
   "metadata": {},
   "outputs": [],
   "source": [
    "\n",
    "loss_fn = nn.CrossEntropyLoss()\n",
    "optimizer = torch.optim.Adam(params=net.parameters(), lr=0.0001)\n",
    "accuracy = Accuracy(task='multiclass', num_classes=10)\n"
   ]
  },
  {
   "cell_type": "code",
   "execution_count": null,
   "id": "d2d879e7",
   "metadata": {},
   "outputs": [
    {
     "name": "stdout",
     "output_type": "stream",
     "text": [
      "Epoch: 0| Train loss:  0.17166| Train acc:  0.94961| Val loss:  0.07124| Val acc:  0.97872\n",
      "Epoch: 1| Train loss:  0.05347| Train acc:  0.98352| Val loss:  0.05769| Val acc:  0.98255\n",
      "Epoch: 2| Train loss:  0.03949| Train acc:  0.98769| Val loss:  0.05597| Val acc:  0.98338\n",
      "Epoch: 3| Train loss:  0.02979| Train acc:  0.99111| Val loss:  0.05082| Val acc:  0.98487\n",
      "Epoch: 4| Train loss:  0.02378| Train acc:  0.99237| Val loss:  0.05154| Val acc:  0.98421\n",
      "Epoch: 5| Train loss:  0.02021| Train acc:  0.99322| Val loss:  0.05837| Val acc:  0.98255\n",
      "Epoch: 6| Train loss:  0.01730| Train acc:  0.99433| Val loss:  0.05430| Val acc:  0.98454\n",
      "Epoch: 7| Train loss:  0.01337| Train acc:  0.99561| Val loss:  0.04966| Val acc:  0.98687\n",
      "Epoch: 8| Train loss:  0.01339| Train acc:  0.99533| Val loss:  0.05235| Val acc:  0.98687\n",
      "Epoch: 9| Train loss:  0.01065| Train acc:  0.99669| Val loss:  0.05480| Val acc:  0.98703\n",
      "Epoch: 10| Train loss:  0.01234| Train acc:  0.99576| Val loss:  0.05721| Val acc:  0.98388\n",
      "Epoch: 11| Train loss:  0.00954| Train acc:  0.99667| Val loss:  0.06013| Val acc:  0.98537\n"
     ]
    }
   ],
   "source": [
    "# Experiment tracking\n",
    "timestamp = datetime.now().strftime(\"%Y-%m-%d\")\n",
    "experiment_name = \"MNIST\"\n",
    "model_name = \"LeNet5V1\"\n",
    "log_dir = os.path.join(\"runs\", timestamp, experiment_name, model_name)\n",
    "writer = SummaryWriter(log_dir)\n",
    "\n",
    "# device-agnostic setup\n",
    "device = 'cuda' if torch.cuda.is_available() else 'cpu'\n",
    "accuracy = accuracy.to(device)\n",
    "lenet_model = net.to(device)\n",
    "\n",
    "EPOCHS = 12\n",
    "\n",
    "for epoch in range(EPOCHS):\n",
    "    # Training loop\n",
    "    train_loss, train_acc = 0.0, 0.0\n",
    "    lenet_model.train()\n",
    "    for X, y in train_dataloader:\n",
    "        X, y = X.to(device), y.to(device)\n",
    "        \n",
    "        y_pred = lenet_model(X)\n",
    "        \n",
    "        loss = loss_fn(y_pred, y)\n",
    "        train_loss += loss.item()\n",
    "        \n",
    "        acc = accuracy(y_pred, y)\n",
    "        train_acc += acc\n",
    "        \n",
    "        optimizer.zero_grad()\n",
    "        loss.backward()\n",
    "        optimizer.step()\n",
    "        \n",
    "    train_loss /= len(train_dataloader)\n",
    "    train_acc /= len(train_dataloader)\n",
    "        \n",
    "    # Validation loop\n",
    "    val_loss, val_acc = 0.0, 0.0\n",
    "    lenet_model.eval()\n",
    "    with torch.inference_mode():\n",
    "        for X, y in val_dataloader:\n",
    "            X, y = X.to(device), y.to(device)\n",
    "            \n",
    "            y_pred = lenet_model(X)\n",
    "            \n",
    "            loss = loss_fn(y_pred, y)\n",
    "            val_loss += loss.item()\n",
    "            \n",
    "            acc = accuracy(y_pred, y)\n",
    "            val_acc += acc\n",
    "            \n",
    "        val_loss /= len(val_dataloader)\n",
    "        val_acc /= len(val_dataloader)\n",
    "        \n",
    "    writer.add_scalars(main_tag=\"Loss\", tag_scalar_dict={\"train/loss\": train_loss, \"val/loss\": val_loss}, global_step=epoch)\n",
    "    writer.add_scalars(main_tag=\"Accuracy\", tag_scalar_dict={\"train/acc\": train_acc, \"val/acc\": val_acc}, global_step=epoch)\n",
    "    \n",
    "    print(f\"Epoch: {epoch}| Train loss: {train_loss: .5f}| Train acc: {train_acc: .5f}| Val loss: {val_loss: .5f}| Val acc: {val_acc: .5f}\")\n"
   ]
  },
  {
   "cell_type": "code",
   "execution_count": null,
   "id": "b176caf8",
   "metadata": {},
   "outputs": [
    {
     "name": "stdout",
     "output_type": "stream",
     "text": [
      "Saving the model: models\\lenet5_v1_mnist.pth\n"
     ]
    },
    {
     "data": {
      "text/plain": [
       "<All keys matched successfully>"
      ]
     },
     "execution_count": 57,
     "metadata": {},
     "output_type": "execute_result"
    }
   ],
   "source": [
    "from pathlib import Path\n",
    "\n",
    "MODEL_PATH = Path(\"models\")\n",
    "MODEL_PATH.mkdir(parents=True, exist_ok=True)\n",
    "\n",
    "MODEL_NAME = \"lenet5_v1_mnist.pth\"\n",
    "MODEL_SAVE_PATH = MODEL_PATH / MODEL_NAME\n",
    "\n",
    "# Saving the model\n",
    "print(f\"Saving the model: {MODEL_SAVE_PATH}\")\n",
    "torch.save(obj=model_lenet5v1.state_dict(), f=MODEL_SAVE_PATH)\n",
    "\n",
    "# Loading the saved model\n",
    "model_lenet5_v1_mnist_loaded = LeNet5()\n",
    "model_lenet5_v1_mnist_loaded.load_state_dict(torch.load(MODEL_SAVE_PATH))\n"
   ]
  },
  {
   "cell_type": "code",
   "execution_count": 58,
   "id": "1bff5bab",
   "metadata": {},
   "outputs": [
    {
     "name": "stdout",
     "output_type": "stream",
     "text": [
      "Test loss:  0.91711| Test acc:  0.78435\n"
     ]
    }
   ],
   "source": [
    "test_loss, test_acc = 0, 0\n",
    "\n",
    "model_lenet5_v1_mnist_loaded.to(device)\n",
    "\n",
    "model_lenet5_v1_mnist_loaded.eval()\n",
    "with torch.inference_mode():\n",
    "    for X, y in test_dataloader:\n",
    "        X, y = X.to(device), y.to(device)\n",
    "        y_pred = model_lenet5_v1_mnist_loaded(X)\n",
    "        \n",
    "        test_loss += loss_fn(y_pred, y)\n",
    "        test_acc += accuracy(y_pred, y)\n",
    "        \n",
    "    test_loss /= len(test_dataloader)\n",
    "    test_acc /= len(test_dataloader)\n",
    "\n",
    "print(f\"Test loss: {test_loss: .5f}| Test acc: {test_acc: .5f}\")\n"
   ]
  },
  {
   "cell_type": "code",
   "execution_count": null,
   "id": "169ee9a3",
   "metadata": {},
   "outputs": [
    {
     "data": {
      "image/png": "[encoded data removed]",
      "text/plain": [
       "<Figure size 1200x400 with 12 Axes>"
      ]
     },
     "metadata": {},
     "output_type": "display_data"
    }
   ],
   "source": [
    "#  See random images with their labels\n",
    "torch.manual_seed(42)  # setting random seed\n",
    "import matplotlib.pyplot as plt\n",
    "%matplotlib inline\n",
    "fig = plt.figure(figsize=(12, 4))\n",
    "\n",
    "rows, cols = 2, 6\n",
    "for i in range(1, (rows * cols) + 1):\n",
    "    random_idx = torch.randint(0, len(test_dataset), size=[1]).item()\n",
    "    img, label_gt = test_dataset[random_idx]\n",
    "    img_temp = img.unsqueeze(dim=0).to(device)\n",
    "    # print(img.shape)\n",
    "    label_pred = torch.argmax(model_lenet5_v1_mnist_loaded(img_temp))\n",
    "    fig.add_subplot(rows, cols, i)\n",
    "    img = img.permute(1, 2, 0)    # CWH --> WHC\n",
    "    plt.imshow(img, cmap='gray')\n",
    "    if label_pred == label_gt:\n",
    "        plt.title(class_names[label_pred], color='g') # for correct prediction\n",
    "    else:\n",
    "        plt.title(class_names[label_pred], color='r') # for incorrect prediction\n",
    "    plt.axis(False)\n",
    "    plt.tight_layout()\n"
   ]
  }
 ],
 "metadata": {
  "kernelspec": {
   "display_name": "ml",
   "language": "python",
   "name": "python3"
  },
  "language_info": {
   "codemirror_mode": {
    "name": "ipython",
    "version": 3
   },
   "file_extension": ".py",
   "mimetype": "text/x-python",
   "name": "python",
   "nbconvert_exporter": "python",
   "pygments_lexer": "ipython3",
   "version": "3.9.21"
  }
 },
 "nbformat": 4,
 "nbformat_minor": 5
}
